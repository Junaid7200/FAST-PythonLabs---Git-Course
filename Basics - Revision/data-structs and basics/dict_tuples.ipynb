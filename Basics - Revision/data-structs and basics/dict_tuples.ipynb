{
 "cells": [
  {
   "cell_type": "markdown",
   "metadata": {},
   "source": [
    "### Dictionaries"
   ]
  },
  {
   "cell_type": "code",
   "execution_count": null,
   "metadata": {},
   "outputs": [
    {
     "name": "stdout",
     "output_type": "stream",
     "text": [
      "{}\n",
      "{'key1': 'value1', 'key2': 'value2', 'key3': 'value3'}\n",
      "value1\n"
     ]
    }
   ],
   "source": [
    "# Basics of Dictionary\n",
    "\n",
    "# Dictionary is a collection of key-value pairs\n",
    "\n",
    "# Dictionary creation\n",
    "\n",
    "# Create an empty dictionary\n",
    "my_dict = {}\n",
    "print(my_dict)\n",
    "# Create a dictionary with key-value pairs\n",
    "my_dict = {\"key1\": \"value1\", \"key2\": \"value2\", \"key3\": \"value3\"}\n",
    "print(my_dict)\n",
    "# Accessing values in a dictionary\n",
    "my_dict = {\"key1\": \"value1\", \"key2\": \"value2\", \"key3\": \"value3\"}\n",
    "\n",
    "print(my_dict[\"key1\"])  # we give the key, the value is printed"
   ]
  },
  {
   "cell_type": "code",
   "execution_count": 2,
   "metadata": {},
   "outputs": [
    {
     "name": "stdout",
     "output_type": "stream",
     "text": [
      "{'key1': 'value1', 'key2': 'value2', 'key3': 'value3', 'key4': 'value4'}\n",
      "{'key1': 'value1', 'key3': 'value3'}\n",
      "True\n",
      "========================\n"
     ]
    }
   ],
   "source": [
    "# more dict basics:\n",
    "\n",
    "# Adding elements to a dictionary\n",
    "my_dict = {\"key1\": \"value1\", \"key2\": \"value2\", \"key3\": \"value3\"}\n",
    "my_dict[\"key4\"] = \"value4\"\n",
    "print(my_dict)\n",
    "# Removing elements from a dictionary\n",
    "my_dict = {\"key1\": \"value1\", \"key2\": \"value2\", \"key3\": \"value3\"}\n",
    "del my_dict[\"key2\"]\n",
    "print(my_dict)\n",
    "# Checking if a key exists in a dictionary\n",
    "my_dict = {\"key1\": \"value1\", \"key2\": \"value2\", \"key3\": \"value3\"}\n",
    "print(\"key2\" in my_dict)\n",
    "\n",
    "\n",
    "print(\"========================\")"
   ]
  },
  {
   "cell_type": "code",
   "execution_count": null,
   "metadata": {},
   "outputs": [
    {
     "name": "stdout",
     "output_type": "stream",
     "text": [
      "key1 value1\n",
      "key2 value2\n",
      "key3 value3\n"
     ]
    }
   ],
   "source": [
    "# using for loop to iterate through a dictionary and print it in a readable way\n",
    "my_dict = {\"key1\": \"value1\", \"key2\": \"value2\", \"key3\": \"value3\"}\n",
    "for key, value in my_dict.items():  # we can have 2 iterators in a single for loop too btw, like both key and value variables here are considered iterators\n",
    "    print(key, value)"
   ]
  },
  {
   "cell_type": "code",
   "execution_count": 5,
   "metadata": {},
   "outputs": [
    {
     "name": "stdout",
     "output_type": "stream",
     "text": [
      "()\n",
      "(1, 2, 3, 4, 5)\n",
      "1\n",
      "5\n",
      "========================\n"
     ]
    }
   ],
   "source": [
    "# Basics of tuples:\n",
    "\n",
    "# Tuple is a collection of elements\n",
    "\n",
    "# Tuple creation\n",
    "\n",
    "# Create an empty tuple\n",
    "my_tuple = ()\n",
    "print(my_tuple)\n",
    "# Create a tuple with elements\n",
    "my_tuple = (1, 2, 3, 4, 5)\n",
    "print(my_tuple)\n",
    "# Accessing elements in a tuple\n",
    "my_tuple = (1, 2, 3, 4, 5)\n",
    "\n",
    "print(my_tuple[0])  # we give the index, the value is printed\n",
    "print(my_tuple[-1]) # python has negative indexing, this just means the index in reverse, so 1 is the first index but -1 means the last index\n",
    "\n",
    "print(\"========================\")\n"
   ]
  },
  {
   "cell_type": "code",
   "execution_count": 6,
   "metadata": {},
   "outputs": [
    {
     "name": "stdout",
     "output_type": "stream",
     "text": [
      "(1, 2, 3, 4, 5, 6, 7, 8)\n",
      "(1, 2, 3, 5)\n",
      "True\n",
      "False\n"
     ]
    }
   ],
   "source": [
    "# more tuple basics\n",
    "\n",
    "# Adding elements to a tuple\n",
    "my_tuple = (1, 2, 3, 4, 5)\n",
    "new_tuple = my_tuple + (6, 7, 8)\n",
    "print(new_tuple)\n",
    "# Removing elements from a tuple\n",
    "my_tuple = (1, 2, 3, 4, 5)\n",
    "new_tuple = my_tuple[0:3] + my_tuple[4:]\n",
    "print(new_tuple)\n",
    "# Checking if an element exists in a tuple\n",
    "my_tuple = (1, 2, 3, 4, 5)\n",
    "print(3 in my_tuple)\n",
    "print(6 in my_tuple)"
   ]
  },
  {
   "cell_type": "code",
   "execution_count": 7,
   "metadata": {},
   "outputs": [
    {
     "name": "stdout",
     "output_type": "stream",
     "text": [
      "1\n",
      "2\n",
      "3\n",
      "4\n",
      "5\n"
     ]
    }
   ],
   "source": [
    "# using for loop to iterate through a tuple and print it in a readable way\n",
    "my_tuple = (1, 2, 3, 4, 5)\n",
    "for element in my_tuple:\n",
    "    print(element)"
   ]
  },
  {
   "cell_type": "markdown",
   "metadata": {},
   "source": []
  },
  {
   "cell_type": "markdown",
   "metadata": {},
   "source": []
  }
 ],
 "metadata": {
  "kernelspec": {
   "display_name": "Python 3",
   "language": "python",
   "name": "python3"
  },
  "language_info": {
   "codemirror_mode": {
    "name": "ipython",
    "version": 3
   },
   "file_extension": ".py",
   "mimetype": "text/x-python",
   "name": "python",
   "nbconvert_exporter": "python",
   "pygments_lexer": "ipython3",
   "version": "3.13.1"
  }
 },
 "nbformat": 4,
 "nbformat_minor": 2
}
