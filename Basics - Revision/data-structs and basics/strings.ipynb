{
 "cells": [
  {
   "cell_type": "code",
   "execution_count": 1,
   "metadata": {},
   "outputs": [
    {
     "name": "stdout",
     "output_type": "stream",
     "text": [
      "Hello, World!\n",
      "H\n",
      "W\n",
      "Hello\n",
      "World!\n",
      "HelloWorld\n",
      "13\n",
      "HELLO, WORLD!\n",
      "hello, world!\n",
      "Hi, World!\n",
      "['Hello', ' World!']\n"
     ]
    }
   ],
   "source": [
    "# Basics of strings in python\n",
    "\n",
    "# creating a string\n",
    "string = \"Hello, World!\"\n",
    "print(string)\n",
    "\n",
    "# accessing characters in a string\n",
    "print(string[0])  # prints 'H'\n",
    "print(string[7])  # prints 'W'\n",
    "\n",
    "# slicing a string\n",
    "print(string[0:5])  # prints 'Hello'\n",
    "print(string[7:])  # prints 'World!'; leaving the ending index empty means it will select all the elements till the end of the string\n",
    "\n",
    "# string concatenation\n",
    "print(\"Hello\" + \"World\")\n",
    "\n",
    "# string length\n",
    "print(len(string))\n",
    "\n",
    "# string methods\n",
    "print(string.upper())  # prints 'HELLO, WORLD!'\n",
    "print(string.lower())  # prints 'hello, world!'\n",
    "print(string.replace(\"Hello\", \"Hi\"))  # prints 'Hi, World!'\n",
    "print(string.split(\",\"))  # prints ['Hello', ' World!']"
   ]
  },
  {
   "cell_type": "code",
   "execution_count": 2,
   "metadata": {},
   "outputs": [
    {
     "name": "stdout",
     "output_type": "stream",
     "text": [
      "True\n",
      "False\n",
      "7\n",
      "My name is John and I am 30 years old\n"
     ]
    }
   ],
   "source": [
    "# more string basics\n",
    "\n",
    "string = \"Hello, World!\"\n",
    "\n",
    "# checking if a string contains a substring\n",
    "print(\"World\" in string)  # prints True\n",
    "print(\"world\" in string)  # prints False\n",
    "\n",
    "# finding the index of a substring\n",
    "print(string.find(\"World\"))  # prints 7\n",
    "\n",
    "# string formatting\n",
    "name = \"John\"\n",
    "age = 30\n",
    "print(\"My name is %s and I am %d years old\" % (name, age)) #  but this stuff is pretty useless since we have f-strings"
   ]
  }
 ],
 "metadata": {
  "kernelspec": {
   "display_name": "Python 3",
   "language": "python",
   "name": "python3"
  },
  "language_info": {
   "codemirror_mode": {
    "name": "ipython",
    "version": 3
   },
   "file_extension": ".py",
   "mimetype": "text/x-python",
   "name": "python",
   "nbconvert_exporter": "python",
   "pygments_lexer": "ipython3",
   "version": "3.13.1"
  }
 },
 "nbformat": 4,
 "nbformat_minor": 2
}
