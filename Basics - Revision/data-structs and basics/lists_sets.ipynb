{
 "cells": [
  {
   "cell_type": "markdown",
   "metadata": {},
   "source": [
    "### Lists"
   ]
  },
  {
   "cell_type": "code",
   "execution_count": 1,
   "metadata": {},
   "outputs": [
    {
     "name": "stdout",
     "output_type": "stream",
     "text": [
      "[10, 20, 3, 4, 5]\n",
      "10\n"
     ]
    }
   ],
   "source": [
    "# all the list basics:\n",
    "\n",
    "list = [1, 2, 3, 4, 5]  # list creation with []\n",
    "list[0] = 10    # indexing and overriding (list is a mutable collection)\n",
    "list[1] = 20\n",
    "print(list)\n",
    "print(list[0])  # using index to print"
   ]
  },
  {
   "cell_type": "code",
   "execution_count": 2,
   "metadata": {},
   "outputs": [
    {
     "name": "stdout",
     "output_type": "stream",
     "text": [
      "[1, 2, 3, 4, 5, 6]\n",
      "[1, 2, 3, 4, 5, 6, 7, 8, 9]\n"
     ]
    }
   ],
   "source": [
    "# more list basics:\n",
    "\n",
    "list = [1, 2, 3, 4, 5]  # list creation with []\n",
    "list.append(6)  # adding an element at the end of the list just like a queue\n",
    "print(list)\n",
    "list.extend([7, 8, 9])  # adding multiple elements at the end of the list\n",
    "print(list)"
   ]
  },
  {
   "cell_type": "code",
   "execution_count": 3,
   "metadata": {},
   "outputs": [
    {
     "name": "stdout",
     "output_type": "stream",
     "text": [
      "[1, 2, 4, 5]\n",
      "[1, 2, 4]\n",
      "[1, 2, 10, 4]\n",
      "[1, 2, 4, 10]\n",
      "[10, 4, 2, 1]\n",
      "4\n",
      "1\n",
      "10\n",
      "17\n",
      "============================================================\n",
      "1\n",
      "3\n"
     ]
    }
   ],
   "source": [
    "# and more list basics:\n",
    "\n",
    "list = [1, 2, 3, 4, 5]  # list creation with []\n",
    "list.remove(3)  # removing an element from the list\n",
    "print(list)\n",
    "list.pop()  # removing the last element from the list\n",
    "print(list)\n",
    "list.insert(2, 10)  # inserting an element at a specific index\n",
    "print(list)\n",
    "list.sort()  # sorting the list\n",
    "print(list)\n",
    "list.reverse()  # reversing the list\n",
    "print(list)\n",
    "print(len(list))  # getting the length of the list\n",
    "print(min(list))  # getting the minimum element of the list\n",
    "print(max(list))  # getting the maximum element of the list\n",
    "print(sum(list))  # getting the sum of the elements of the list\n",
    "\n",
    "\n",
    "\n",
    "print(\"============================================================\")\n",
    "\n",
    "list = [1, 2, 3, 4, 5]  # list creation with []\n",
    "print(list.count(3))  # getting the number of times an element appears in the list\n",
    "print(list.index(4))  # getting the index of an element in the list\n"
   ]
  },
  {
   "cell_type": "markdown",
   "metadata": {},
   "source": [
    "### Sets"
   ]
  },
  {
   "cell_type": "code",
   "execution_count": 4,
   "metadata": {},
   "outputs": [
    {
     "name": "stdout",
     "output_type": "stream",
     "text": [
      "{1, 2, 3, 4, 5, 6}\n",
      "{1, 2, 4, 5, 6}\n",
      "False\n",
      "5\n"
     ]
    }
   ],
   "source": [
    "# Basics of Sets:\n",
    "\n",
    "set = {1, 2, 3, 4, 5}  # set creation with {}\n",
    "set.add(6)  # adding an element to the set; this will add 6 to the end of the set\n",
    "print(set)\n",
    "set.remove(3)  # removing an element from the set; 3 is not the index, its the value\n",
    "print(set)\n",
    "print(3 in set)  # checking if an element is in the set (should be false since we just removed 3 from the set)\n",
    "print(len(set))  # getting the length of the set"
   ]
  },
  {
   "cell_type": "code",
   "execution_count": 5,
   "metadata": {},
   "outputs": [
    {
     "name": "stdout",
     "output_type": "stream",
     "text": [
      "{1, 2, 3, 4, 5, 6, 7, 8}\n",
      "{4, 5}\n",
      "{1, 2, 3}\n",
      "False\n",
      "False\n"
     ]
    }
   ],
   "source": [
    "# more set basics:\n",
    "\n",
    "set1 = {1, 2, 3, 4, 5}\n",
    "set2 = {4, 5, 6, 7, 8}\n",
    "print(set1.union(set2))  # union of two sets\n",
    "print(set1.intersection(set2))  # intersection of two sets\n",
    "print(set1.difference(set2))  # difference of two sets\n",
    "print(set1.issubset(set2))  # checking if set1 is a subset of set2\n",
    "print(set1.issuperset(set2))  # checking if set1 is a superset of set2"
   ]
  },
  {
   "cell_type": "code",
   "execution_count": 7,
   "metadata": {},
   "outputs": [
    {
     "name": "stdout",
     "output_type": "stream",
     "text": [
      "set()\n"
     ]
    }
   ],
   "source": [
    "# more set basics:\n",
    "\n",
    "\n",
    "set = {1, 2, 3, 4, 5}\n",
    "set.clear()  # clearing the set\n",
    "print(set)\n",
    "set = {1, 2, 3, 4, 5}\n",
    "del set  # deleting the set"
   ]
  },
  {
   "cell_type": "code",
   "execution_count": 2,
   "metadata": {},
   "outputs": [
    {
     "name": "stdout",
     "output_type": "stream",
     "text": [
      "Final Centroids:\n",
      " [[0.80268396 0.5083208 ]\n",
      " [0.32296982 0.22923019]\n",
      " [0.30985029 0.76610324]]\n",
      "Execution Time: 2.926810 seconds\n"
     ]
    }
   ],
   "source": [
    "import numpy as np\n",
    "import time\n",
    "from sklearn.cluster import KMeans\n",
    "\n",
    "# Generate random dataset\n",
    "NUM_POINTS = 1000000\n",
    "DIM = 2\n",
    "K = 3\n",
    "\n",
    "data = np.random.rand(NUM_POINTS, DIM)\n",
    "\n",
    "# Measure execution time\n",
    "start_time = time.time()\n",
    "\n",
    "# Use Scikit-Learn’s built-in K-Means\n",
    "kmeans = KMeans(n_clusters=K, max_iter=100, n_init=10, random_state=42, algorithm='lloyd')\n",
    "kmeans.fit(data)\n",
    "\n",
    "# Get final centroids\n",
    "centroids = kmeans.cluster_centers_\n",
    "\n",
    "end_time = time.time()\n",
    "elapsed_time = end_time - start_time\n",
    "\n",
    "print(\"Final Centroids:\\n\", centroids)\n",
    "print(f\"Execution Time: {elapsed_time:.6f} seconds\")\n"
   ]
  },
  {
   "cell_type": "code",
   "execution_count": 1,
   "metadata": {},
   "outputs": [
    {
     "ename": "TypingError",
     "evalue": "Failed in nopython mode pipeline (step: native parfor lowering)\n\u001b[1m\u001b[1mFailed in full_parfor_gufunc mode pipeline (step: nopython frontend)\n\u001b[1m\u001b[1m\u001b[1mNo implementation of function Function(<built-in function getitem>) found for signature:\n \n >>> getitem(array(float64, 2d, C), UniTuple(uint64 x 3))\n \nThere are 22 candidate implementations:\n\u001b[1m  - Of which 20 did not match due to:\n  Overload of function 'getitem': File: <numerous>: Line N/A.\n    With argument(s): '(array(float64, 2d, C), UniTuple(uint64 x 3))':\u001b[0m\n\u001b[1m   No match.\u001b[0m\n\u001b[1m  - Of which 2 did not match due to:\n  Overload in function 'GetItemBuffer.generic': File: numba\\core\\typing\\arraydecl.py: Line 211.\n    With argument(s): '(array(float64, 2d, C), UniTuple(uint64 x 3))':\u001b[0m\n\u001b[1m   Rejected as the implementation raised a specific error:\n     NumbaTypeError: \u001b[1mcannot index array(float64, 2d, C) with 3 indices: UniTuple(uint64 x 3)\u001b[0m\u001b[0m\n  raised from c:\\Users\\junai\\AppData\\Local\\Programs\\Python\\Python313\\Lib\\site-packages\\numba\\core\\typing\\arraydecl.py:133\n\u001b[0m\n\u001b[0m\u001b[1mDuring: typing of intrinsic-call at C:\\Users\\junai\\AppData\\Local\\Temp\\ipykernel_21168\\3323669491.py (24)\u001b[0m\n\u001b[1m\nFile \"C:\\Users\\junai\\AppData\\Local\\Temp\\ipykernel_21168\\3323669491.py\", line 24:\u001b[0m\n\u001b[1mdef kmeans(data, k, max_iter):\n    <source elided>\n        # Compute distances (fastest method)\n\u001b[1m        distances = np.sqrt(((data[:, np.newaxis, :] - centroids) ** 2).sum(axis=2))\n\u001b[0m        \u001b[1m^\u001b[0m\u001b[0m\n\n\u001b[0m\u001b[1mDuring: Pass nopython_type_inference\u001b[0m\n\u001b[0m\u001b[1mDuring: lowering \"id=0[LoopNest(index_variable = parfor_index.76, range = (0, $266binary_subscr.17_size0.45, 1)), LoopNest(index_variable = parfor_index.77, range = (0, centroids_size0.42, 1)), LoopNest(index_variable = parfor_index.78, range = (0, centroids_size1.43, 1))]{776: <ir.Block at C:\\Users\\junai\\AppData\\Local\\Temp\\ipykernel_21168\\3323669491.py (24)>}Var($parfor_index_tuple_var.84, 3323669491.py:24)\" at C:\\Users\\junai\\AppData\\Local\\Temp\\ipykernel_21168\\3323669491.py (24)\u001b[0m\n\u001b[0m\u001b[1mDuring: Pass native_parfor_lowering\u001b[0m",
     "output_type": "error",
     "traceback": [
      "\u001b[1;31m---------------------------------------------------------------------------\u001b[0m",
      "\u001b[1;31mTypingError\u001b[0m                               Traceback (most recent call last)",
      "Cell \u001b[1;32mIn[1], line 53\u001b[0m\n\u001b[0;32m     51\u001b[0m \u001b[38;5;66;03m# ---------------- STEP 2: EXECUTION & TIMING ---------------- #\u001b[39;00m\n\u001b[0;32m     52\u001b[0m start_time \u001b[38;5;241m=\u001b[39m time\u001b[38;5;241m.\u001b[39mtime()\n\u001b[1;32m---> 53\u001b[0m final_centroids \u001b[38;5;241m=\u001b[39m \u001b[43mkmeans\u001b[49m\u001b[43m(\u001b[49m\u001b[43mdata\u001b[49m\u001b[43m,\u001b[49m\u001b[43m \u001b[49m\u001b[43mK\u001b[49m\u001b[43m,\u001b[49m\u001b[43m \u001b[49m\u001b[43mMAX_ITER\u001b[49m\u001b[43m)\u001b[49m\n\u001b[0;32m     54\u001b[0m elapsed_time \u001b[38;5;241m=\u001b[39m time\u001b[38;5;241m.\u001b[39mtime() \u001b[38;5;241m-\u001b[39m start_time\n\u001b[0;32m     56\u001b[0m \u001b[38;5;66;03m# Print Results\u001b[39;00m\n",
      "File \u001b[1;32mc:\\Users\\junai\\AppData\\Local\\Programs\\Python\\Python313\\Lib\\site-packages\\numba\\core\\dispatcher.py:424\u001b[0m, in \u001b[0;36m_DispatcherBase._compile_for_args\u001b[1;34m(self, *args, **kws)\u001b[0m\n\u001b[0;32m    420\u001b[0m         msg \u001b[38;5;241m=\u001b[39m (\u001b[38;5;124mf\u001b[39m\u001b[38;5;124m\"\u001b[39m\u001b[38;5;132;01m{\u001b[39;00m\u001b[38;5;28mstr\u001b[39m(e)\u001b[38;5;241m.\u001b[39mrstrip()\u001b[38;5;132;01m}\u001b[39;00m\u001b[38;5;124m \u001b[39m\u001b[38;5;130;01m\\n\u001b[39;00m\u001b[38;5;130;01m\\n\u001b[39;00m\u001b[38;5;124mThis error may have been caused \u001b[39m\u001b[38;5;124m\"\u001b[39m\n\u001b[0;32m    421\u001b[0m                \u001b[38;5;124mf\u001b[39m\u001b[38;5;124m\"\u001b[39m\u001b[38;5;124mby the following argument(s):\u001b[39m\u001b[38;5;130;01m\\n\u001b[39;00m\u001b[38;5;132;01m{\u001b[39;00margs_str\u001b[38;5;132;01m}\u001b[39;00m\u001b[38;5;130;01m\\n\u001b[39;00m\u001b[38;5;124m\"\u001b[39m)\n\u001b[0;32m    422\u001b[0m         e\u001b[38;5;241m.\u001b[39mpatch_message(msg)\n\u001b[1;32m--> 424\u001b[0m     \u001b[43merror_rewrite\u001b[49m\u001b[43m(\u001b[49m\u001b[43me\u001b[49m\u001b[43m,\u001b[49m\u001b[43m \u001b[49m\u001b[38;5;124;43m'\u001b[39;49m\u001b[38;5;124;43mtyping\u001b[39;49m\u001b[38;5;124;43m'\u001b[39;49m\u001b[43m)\u001b[49m\n\u001b[0;32m    425\u001b[0m \u001b[38;5;28;01mexcept\u001b[39;00m errors\u001b[38;5;241m.\u001b[39mUnsupportedError \u001b[38;5;28;01mas\u001b[39;00m e:\n\u001b[0;32m    426\u001b[0m     \u001b[38;5;66;03m# Something unsupported is present in the user code, add help info\u001b[39;00m\n\u001b[0;32m    427\u001b[0m     error_rewrite(e, \u001b[38;5;124m'\u001b[39m\u001b[38;5;124munsupported_error\u001b[39m\u001b[38;5;124m'\u001b[39m)\n",
      "File \u001b[1;32mc:\\Users\\junai\\AppData\\Local\\Programs\\Python\\Python313\\Lib\\site-packages\\numba\\core\\dispatcher.py:365\u001b[0m, in \u001b[0;36m_DispatcherBase._compile_for_args.<locals>.error_rewrite\u001b[1;34m(e, issue_type)\u001b[0m\n\u001b[0;32m    363\u001b[0m     \u001b[38;5;28;01mraise\u001b[39;00m e\n\u001b[0;32m    364\u001b[0m \u001b[38;5;28;01melse\u001b[39;00m:\n\u001b[1;32m--> 365\u001b[0m     \u001b[38;5;28;01mraise\u001b[39;00m e\u001b[38;5;241m.\u001b[39mwith_traceback(\u001b[38;5;28;01mNone\u001b[39;00m)\n",
      "\u001b[1;31mTypingError\u001b[0m: Failed in nopython mode pipeline (step: native parfor lowering)\n\u001b[1m\u001b[1mFailed in full_parfor_gufunc mode pipeline (step: nopython frontend)\n\u001b[1m\u001b[1m\u001b[1mNo implementation of function Function(<built-in function getitem>) found for signature:\n \n >>> getitem(array(float64, 2d, C), UniTuple(uint64 x 3))\n \nThere are 22 candidate implementations:\n\u001b[1m  - Of which 20 did not match due to:\n  Overload of function 'getitem': File: <numerous>: Line N/A.\n    With argument(s): '(array(float64, 2d, C), UniTuple(uint64 x 3))':\u001b[0m\n\u001b[1m   No match.\u001b[0m\n\u001b[1m  - Of which 2 did not match due to:\n  Overload in function 'GetItemBuffer.generic': File: numba\\core\\typing\\arraydecl.py: Line 211.\n    With argument(s): '(array(float64, 2d, C), UniTuple(uint64 x 3))':\u001b[0m\n\u001b[1m   Rejected as the implementation raised a specific error:\n     NumbaTypeError: \u001b[1mcannot index array(float64, 2d, C) with 3 indices: UniTuple(uint64 x 3)\u001b[0m\u001b[0m\n  raised from c:\\Users\\junai\\AppData\\Local\\Programs\\Python\\Python313\\Lib\\site-packages\\numba\\core\\typing\\arraydecl.py:133\n\u001b[0m\n\u001b[0m\u001b[1mDuring: typing of intrinsic-call at C:\\Users\\junai\\AppData\\Local\\Temp\\ipykernel_21168\\3323669491.py (24)\u001b[0m\n\u001b[1m\nFile \"C:\\Users\\junai\\AppData\\Local\\Temp\\ipykernel_21168\\3323669491.py\", line 24:\u001b[0m\n\u001b[1mdef kmeans(data, k, max_iter):\n    <source elided>\n        # Compute distances (fastest method)\n\u001b[1m        distances = np.sqrt(((data[:, np.newaxis, :] - centroids) ** 2).sum(axis=2))\n\u001b[0m        \u001b[1m^\u001b[0m\u001b[0m\n\n\u001b[0m\u001b[1mDuring: Pass nopython_type_inference\u001b[0m\n\u001b[0m\u001b[1mDuring: lowering \"id=0[LoopNest(index_variable = parfor_index.76, range = (0, $266binary_subscr.17_size0.45, 1)), LoopNest(index_variable = parfor_index.77, range = (0, centroids_size0.42, 1)), LoopNest(index_variable = parfor_index.78, range = (0, centroids_size1.43, 1))]{776: <ir.Block at C:\\Users\\junai\\AppData\\Local\\Temp\\ipykernel_21168\\3323669491.py (24)>}Var($parfor_index_tuple_var.84, 3323669491.py:24)\" at C:\\Users\\junai\\AppData\\Local\\Temp\\ipykernel_21168\\3323669491.py (24)\u001b[0m\n\u001b[0m\u001b[1mDuring: Pass native_parfor_lowering\u001b[0m"
     ]
    }
   ],
   "source": [
    "import numpy as np\n",
    "import time\n",
    "from numba import jit, prange\n",
    "from sklearn.utils.extmath import row_norms\n",
    "from scipy.spatial.distance import cdist\n",
    "\n",
    "# Constants\n",
    "NUM_POINTS = 1000000\n",
    "DIM = 2\n",
    "K = 3\n",
    "MAX_ITER = 100\n",
    "\n",
    "# Generate random dataset\n",
    "data = np.random.rand(NUM_POINTS, DIM)\n",
    "\n",
    "# ---------------- STEP 1: K-MEANS FUNCTION (OPTIMIZED) ---------------- #\n",
    "@jit(nopython=True, parallel=True)  # JIT Compilation for max speed\n",
    "def kmeans(data, k, max_iter):\n",
    "    np.random.seed(42)\n",
    "    centroids = data[np.random.choice(data.shape[0], k, replace=False)]\n",
    "    \n",
    "    for _ in range(max_iter):\n",
    "        # Compute distances (fastest method)\n",
    "        distances = np.sqrt(((data[:, np.newaxis, :] - centroids) ** 2).sum(axis=2))\n",
    "        \n",
    "        # Assign clusters\n",
    "        labels = np.argmin(distances, axis=1)\n",
    "        \n",
    "        # Update centroids\n",
    "        new_centroids = np.zeros((k, data.shape[1]))\n",
    "        counts = np.zeros(k, dtype=np.int64)\n",
    "\n",
    "        # Summation step (Parallelized)\n",
    "        for i in prange(data.shape[0]):  \n",
    "            new_centroids[labels[i]] += data[i]\n",
    "            counts[labels[i]] += 1\n",
    "\n",
    "        # Compute mean (Avoid division by zero)\n",
    "        for j in range(k):\n",
    "            if counts[j] > 0:\n",
    "                new_centroids[j] /= counts[j]\n",
    "\n",
    "        # If centroids don't change, we stop early\n",
    "        if np.allclose(centroids, new_centroids):\n",
    "            break\n",
    "\n",
    "        centroids = new_centroids\n",
    "\n",
    "    return centroids\n",
    "\n",
    "# ---------------- STEP 2: EXECUTION & TIMING ---------------- #\n",
    "start_time = time.time()\n",
    "final_centroids = kmeans(data, K, MAX_ITER)\n",
    "elapsed_time = time.time() - start_time\n",
    "\n",
    "# Print Results\n",
    "print(\"Final Centroids:\\n\", final_centroids)\n",
    "print(f\"Execution Time: {elapsed_time:.6f} seconds\")\n"
   ]
  },
  {
   "cell_type": "code",
   "execution_count": null,
   "metadata": {},
   "outputs": [],
   "source": []
  }
 ],
 "metadata": {
  "kernelspec": {
   "display_name": "Python 3",
   "language": "python",
   "name": "python3"
  },
  "language_info": {
   "codemirror_mode": {
    "name": "ipython",
    "version": 3
   },
   "file_extension": ".py",
   "mimetype": "text/x-python",
   "name": "python",
   "nbconvert_exporter": "python",
   "pygments_lexer": "ipython3",
   "version": "3.13.1"
  }
 },
 "nbformat": 4,
 "nbformat_minor": 2
}
