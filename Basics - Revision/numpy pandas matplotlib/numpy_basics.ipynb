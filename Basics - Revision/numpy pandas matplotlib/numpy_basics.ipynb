{
 "cells": [
  {
   "cell_type": "code",
   "execution_count": 2,
   "id": "3d3bf117",
   "metadata": {},
   "outputs": [
    {
     "data": {
      "text/plain": [
       "(3,)"
      ]
     },
     "execution_count": 2,
     "metadata": {},
     "output_type": "execute_result"
    }
   ],
   "source": [
    "import numpy as np\n",
    "\n",
    "# elements have to be the same dtype (n-dimensional array)\n",
    "\n",
    "np1 = np.array([1, 2, 3])\n",
    "np1.shape"
   ]
  },
  {
   "cell_type": "code",
   "execution_count": 3,
   "id": "85cd1ef0",
   "metadata": {},
   "outputs": [
    {
     "name": "stdout",
     "output_type": "stream",
     "text": [
      "[0 2 4 6 8]\n",
      "[0. 0. 0. 0. 0. 0. 0. 0. 0. 0.]\n",
      "[5 5 5 5 5 5 5 5 5 5]\n",
      "[[0. 0. 0. 0. 0. 0. 0. 0. 0. 0.]\n",
      " [0. 0. 0. 0. 0. 0. 0. 0. 0. 0.]]\n",
      "[[8 8 8]\n",
      " [8 8 8]]\n"
     ]
    }
   ],
   "source": [
    "print(np.arange(0, 10, 2))\n",
    "print(np.zeros(10))\n",
    "print(np.full((10), 5))\n",
    "print(np.zeros((2, 10)))\n",
    "print(np.full((2, 3), 8))"
   ]
  },
  {
   "cell_type": "code",
   "execution_count": 4,
   "id": "67bec34e",
   "metadata": {},
   "outputs": [
    {
     "name": "stdout",
     "output_type": "stream",
     "text": [
      "[1 2 3 4 5]\n",
      "1\n",
      "4\n",
      "[[[0. 0.]\n",
      "  [0. 0.]\n",
      "  [0. 0.]\n",
      "  [0. 0.]\n",
      "  [0. 0.]]\n",
      "\n",
      " [[0. 0.]\n",
      "  [0. 0.]\n",
      "  [0. 0.]\n",
      "  [0. 0.]\n",
      "  [0. 0.]]\n",
      "\n",
      " [[0. 0.]\n",
      "  [0. 0.]\n",
      "  [0. 0.]\n",
      "  [0. 0.]\n",
      "  [0. 0.]]]\n",
      "(3, 5, 2)\n"
     ]
    }
   ],
   "source": [
    "listy = [1, 2, 3, 4, 5]\n",
    "converted = np.array(listy)\n",
    "print(converted)\n",
    "print(converted[0])\n",
    "print(converted[3])\n",
    "x = np.zeros((3, 5, 2))\n",
    "print(x)\n",
    "print(x.shape)\n"
   ]
  },
  {
   "cell_type": "code",
   "execution_count": 5,
   "id": "1ff43638",
   "metadata": {},
   "outputs": [
    {
     "name": "stdout",
     "output_type": "stream",
     "text": [
      "[0 1 2 3 4 5 6 7 8 9]\n",
      "[0 1 2 3 4]\n",
      "[1]\n",
      "[1 2 3 4 5 6 7 8 9]\n",
      "[0 1 2 3 4 5 6 7]\n",
      "[0 1 2 3 4 5 6 7 8 9]\n",
      "[9]\n",
      "[7 8]\n",
      "[0 2 4 6]\n"
     ]
    }
   ],
   "source": [
    "x = np.arange(10)\n",
    "print(x)\n",
    "print(x[0:5])\n",
    "print(x[1:2])\n",
    "print(x[1:])\n",
    "print(x[:8])\n",
    "print(x[:])\n",
    "print(x[-1:])\n",
    "print(x[-3:-1])\n",
    "print(x[0:8:2])"
   ]
  },
  {
   "cell_type": "code",
   "execution_count": 6,
   "id": "21e25003",
   "metadata": {},
   "outputs": [
    {
     "name": "stdout",
     "output_type": "stream",
     "text": [
      "[[ 1  2  3  4  5]\n",
      " [ 6  7  8  9 10]]\n",
      "8\n",
      "3\n",
      "[ 5 10]\n",
      "[2 3 4]\n",
      "[1 6]\n"
     ]
    }
   ],
   "source": [
    "x = np.array([[1, 2, 3, 4, 5], [6, 7, 8, 9, 10]])\n",
    "print(x)\n",
    "print(x[1, 2])\n",
    "print(x[0, 2])\n",
    "print(x[0:, 4])\n",
    "print(x[0, 1:4])\n",
    "print(x[0:, 0])"
   ]
  },
  {
   "cell_type": "code",
   "execution_count": 7,
   "id": "e7cedfbf",
   "metadata": {},
   "outputs": [
    {
     "name": "stdout",
     "output_type": "stream",
     "text": [
      "[0 2 4 6 8]\n",
      "0.0\n",
      "1.4142135623730951\n",
      "2.0\n",
      "2.449489742783178\n",
      "2.8284271247461903\n",
      "==========================================\n",
      "2.0\n",
      "[-10  -8  -6  -4  -2]\n",
      "[10  8  6  4  2]\n",
      "2.718281828459045\n",
      "[ 2.71828183  7.3890561  20.08553692]\n",
      "1\n",
      "3\n",
      "[-1 -1  1  1  1 -1 -1  0]\n",
      "[-0.84147098 -0.90929743  0.14112001 -0.7568025  -0.95892427  0.2794155\n",
      "  0.54402111  0.        ]\n",
      "[0.         0.69314718 1.09861229 1.38629436 1.60943791 1.79175947\n",
      " 1.94591015 2.07944154 2.19722458]\n"
     ]
    }
   ],
   "source": [
    "x = np.arange(0, 10, 2)\n",
    "print(x)\n",
    "for a in np.sqrt(x):\n",
    "    print(a)\n",
    "print(\"==========================================\")\n",
    "print(np.sqrt(x[2]))\n",
    "x = np.arange(-10, 0, 2)\n",
    "print(x)\n",
    "print(np.absolute(x))\n",
    "x = np.array([1, 2, 3])\n",
    "print(np.exp(x[0]))\n",
    "print(np.exp(x))\n",
    "print(np.min(x))\n",
    "print(np.max(x))\n",
    "x = np.array([-1, -2, 3, 4, 5, -6, -10, 0])\n",
    "print(np.sign(x))\n",
    "print(np.sin(x))\n",
    "x = np.arange(1, 10)\n",
    "print(np.log(x))"
   ]
  },
  {
   "cell_type": "code",
   "execution_count": 8,
   "id": "57e54de2",
   "metadata": {},
   "outputs": [
    {
     "name": "stdout",
     "output_type": "stream",
     "text": [
      "[0 1 2 3 4 5 6 7 8 9]\n",
      "x: [0 1 2 3 4 5 6 7 8 9]\n",
      "x2: [0 1 2 3 4 5 6 7 8 9]\n",
      "x: [234   1   2   3   4   5   6   7   8   9]\n",
      "x2: [234   1   2   3   4   5   6   7   8   9]\n",
      "==========================================\n",
      "x: [234   1   2   3   4   5   6   7   8   9]\n",
      "x3: [234   1   2   3   4   5   6   7   8   9]\n",
      "x: [234   1   2   3   4   5   6   7   8   9]\n",
      "x3: [0 1 2 3 4 5 6 7 8 9]\n",
      "==========================================\n",
      "original: [0 1 2 3 4 5 6 7 8 9]\n",
      "view: [0 1 2 3 4 5 6 7 8 9]\n",
      "copy: [0 1 2 3 4 5 6 7 8 9]\n",
      "original: [42  1  2  3  4  5  6  7  8  9]\n",
      "view: [42  1  2  3  4  5  6  7  8  9]\n",
      "copy: [0 1 2 3 4 5 6 7 8 9]\n"
     ]
    }
   ],
   "source": [
    "x = np.arange(10)\n",
    "print(x)\n",
    "# deep (copy) and shallow (view) copy concept\n",
    "x2 = x.view()\n",
    "print(f\"x: {x}\\nx2: {x2}\")\n",
    "x2[0] = 234\n",
    "print(f\"x: {x}\\nx2: {x2}\")\n",
    "x3 = x.copy()\n",
    "print(\"==========================================\")\n",
    "print(f\"x: {x}\\nx3: {x3}\")\n",
    "x3[0] = 0\n",
    "print(f\"x: {x}\\nx3: {x3}\")\n",
    "print(\"==========================================\")\n",
    "x = np.arange(10)\n",
    "x2 = x.view()\n",
    "x3 = x.copy()\n",
    "print(f\"original: {x}\\nview: {x2}\\ncopy: {x3}\")\n",
    "x[0] = 42\n",
    "print(f\"original: {x}\\nview: {x2}\\ncopy: {x3}\")"
   ]
  },
  {
   "cell_type": "code",
   "execution_count": 9,
   "id": "846cba79",
   "metadata": {},
   "outputs": [
    {
     "name": "stdout",
     "output_type": "stream",
     "text": [
      "(10,)\n",
      "(2, 3)\n",
      "[[0 1 2 3 4]\n",
      " [5 6 7 8 9]]\n",
      "==========================================\n",
      "[[0 1]\n",
      " [2 3]\n",
      " [4 5]\n",
      " [6 7]\n",
      " [8 9]]\n",
      "[[[ 0  1]\n",
      "  [ 2  3]]\n",
      "\n",
      " [[ 4  5]\n",
      "  [ 6  7]]\n",
      "\n",
      " [[ 8  9]\n",
      "  [10 11]]]\n",
      "==========================================\n",
      "[[[ 0  1]\n",
      "  [ 2  3]]\n",
      "\n",
      " [[ 4  5]\n",
      "  [ 6  7]]\n",
      "\n",
      " [[ 8  9]\n",
      "  [10 11]]\n",
      "\n",
      " [[12 13]\n",
      "  [14 15]]\n",
      "\n",
      " [[16 17]\n",
      "  [18 19]]]\n",
      "==========================================\n",
      "[[[ 0  1]\n",
      "  [ 2  3]]\n",
      "\n",
      " [[ 4  5]\n",
      "  [ 6  7]]\n",
      "\n",
      " [[ 8  9]\n",
      "  [10 11]]\n",
      "\n",
      " [[12 13]\n",
      "  [14 15]]\n",
      "\n",
      " [[16 17]\n",
      "  [18 19]]]\n",
      "[ 0  1  2  3  4  5  6  7  8  9 10 11 12 13 14 15 16 17 18 19]\n"
     ]
    }
   ],
   "source": [
    "x = np.arange(10)\n",
    "print(x.shape)\n",
    "x = np.array([[1, 2, 3], [4, 5, 6]])\n",
    "print(x.shape)\n",
    "x = np.arange(10)\n",
    "x2 = x.reshape(2, 5)\n",
    "print(x2)\n",
    "print(\"==========================================\")\n",
    "print(x.reshape(5, 2))\n",
    "x = np.arange(12)\n",
    "print(x.reshape(3, 2, 2))\n",
    "print(\"==========================================\")\n",
    "x = np.arange(20)\n",
    "print(x.reshape(5, 2, 2))\n",
    "print(\"==========================================\")\n",
    "y = x.reshape(5, 2, 2)\n",
    "print(y)\n",
    "print(y.reshape(-1))"
   ]
  },
  {
   "cell_type": "code",
   "execution_count": 10,
   "id": "4b3e4d89",
   "metadata": {},
   "outputs": [
    {
     "name": "stdout",
     "output_type": "stream",
     "text": [
      "element No. 1\n",
      "==========================================\n",
      "row No. 1\n",
      "value No. 1 AND value is: 0\n",
      "value No. 2 AND value is: 1\n",
      "row No. 2\n",
      "value No. 1 AND value is: 2\n",
      "value No. 2 AND value is: 3\n",
      "row No. 3\n",
      "value No. 1 AND value is: 4\n",
      "value No. 2 AND value is: 5\n",
      "element No. 2\n",
      "==========================================\n",
      "row No. 1\n",
      "value No. 1 AND value is: 6\n",
      "value No. 2 AND value is: 7\n",
      "row No. 2\n",
      "value No. 1 AND value is: 8\n",
      "value No. 2 AND value is: 9\n",
      "row No. 3\n",
      "value No. 1 AND value is: 10\n",
      "value No. 2 AND value is: 11\n",
      "element No. 3\n",
      "==========================================\n",
      "row No. 1\n",
      "value No. 1 AND value is: 12\n",
      "value No. 2 AND value is: 13\n",
      "row No. 2\n",
      "value No. 1 AND value is: 14\n",
      "value No. 2 AND value is: 15\n",
      "row No. 3\n",
      "value No. 1 AND value is: 16\n",
      "value No. 2 AND value is: 17\n",
      "element No. 4\n",
      "==========================================\n",
      "row No. 1\n",
      "value No. 1 AND value is: 18\n",
      "value No. 2 AND value is: 19\n",
      "row No. 2\n",
      "value No. 1 AND value is: 20\n",
      "value No. 2 AND value is: 21\n",
      "row No. 3\n",
      "value No. 1 AND value is: 22\n",
      "value No. 2 AND value is: 23\n",
      "element No. 5\n",
      "==========================================\n",
      "row No. 1\n",
      "value No. 1 AND value is: 24\n",
      "value No. 2 AND value is: 25\n",
      "row No. 2\n",
      "value No. 1 AND value is: 26\n",
      "value No. 2 AND value is: 27\n",
      "row No. 3\n",
      "value No. 1 AND value is: 28\n",
      "value No. 2 AND value is: 29\n"
     ]
    }
   ],
   "source": [
    "x = np.arange(30)\n",
    "y = x.reshape(5, 3, 2)\n",
    "for i, a in enumerate(y):\n",
    "    print(f\"element No. {i + 1}\")\n",
    "    print(\"==========================================\")\n",
    "    for j, b in enumerate(a):\n",
    "        print(f\"row No. {j + 1}\")\n",
    "        for k, c in enumerate(b):\n",
    "            print(f\"value No. {k + 1} AND value is: {c}\")"
   ]
  },
  {
   "cell_type": "code",
   "execution_count": 11,
   "id": "7b9031bd",
   "metadata": {},
   "outputs": [
    {
     "name": "stdout",
     "output_type": "stream",
     "text": [
      "0\n",
      "1\n",
      "2\n",
      "3\n",
      "==========================================\n",
      "0\n",
      "1\n",
      "2\n",
      "3\n",
      "==========================================\n",
      "[0 1]\n",
      "[2 3]\n"
     ]
    }
   ],
   "source": [
    "x = np.arange(4)\n",
    "for a in x:\n",
    "    print(a)\n",
    "print(\"==========================================\")\n",
    "y = x.reshape(2, 2)\n",
    "for a in y:\n",
    "    for b in a:\n",
    "        print(b)\n",
    "print(\"==========================================\")\n",
    "for a in y:\n",
    "    print(a)"
   ]
  },
  {
   "cell_type": "code",
   "execution_count": 12,
   "id": "90a80d85",
   "metadata": {},
   "outputs": [
    {
     "name": "stdout",
     "output_type": "stream",
     "text": [
      "[[[ 0]\n",
      "  [ 1]\n",
      "  [ 2]\n",
      "  [ 3]\n",
      "  [ 4]]\n",
      "\n",
      " [[ 5]\n",
      "  [ 6]\n",
      "  [ 7]\n",
      "  [ 8]\n",
      "  [ 9]]\n",
      "\n",
      " [[10]\n",
      "  [11]\n",
      "  [12]\n",
      "  [13]\n",
      "  [14]]]\n",
      "==========================================\n",
      "0\n",
      "1\n",
      "2\n",
      "3\n",
      "4\n",
      "5\n",
      "6\n",
      "7\n",
      "8\n",
      "9\n",
      "10\n",
      "11\n",
      "12\n",
      "13\n",
      "14\n"
     ]
    }
   ],
   "source": [
    "x = np.arange(15)\n",
    "y = x.reshape(3, 5, 1)\n",
    "print(y)\n",
    "print(\"==========================================\")\n",
    "for a in np.nditer(y):\n",
    "    print(a)"
   ]
  },
  {
   "cell_type": "code",
   "execution_count": 13,
   "id": "d4097844",
   "metadata": {},
   "outputs": [
    {
     "name": "stdout",
     "output_type": "stream",
     "text": [
      "[10  9  8  7  6  5  4  3  2]\n",
      "[ 2  3  4  5  6  7  8  9 10]\n",
      "['alpha' 'charlie' 'delta' 'bravo']\n",
      "['alpha' 'bravo' 'charlie' 'delta']\n",
      "[ True False False False  True]\n",
      "[False False False  True  True]\n"
     ]
    }
   ],
   "source": [
    "x = np.arange(-10, -1)\n",
    "x = np.absolute(x)\n",
    "print(x)\n",
    "print(np.sort(x))\n",
    "x = np.array([\"alpha\", \"charlie\", \"delta\", \"bravo\"])\n",
    "print(x)\n",
    "print(np.sort(x))\n",
    "x = np.array([True, False, False, False, True])\n",
    "print(x)\n",
    "print(np.sort(x))"
   ]
  },
  {
   "cell_type": "code",
   "execution_count": 14,
   "id": "544a7aa1",
   "metadata": {},
   "outputs": [
    {
     "name": "stdout",
     "output_type": "stream",
     "text": [
      "[10  9  8  7  6  5  4  3  2  1]\n",
      "[[10  9  8  7  6]\n",
      " [ 5  4  3  2  1]]\n",
      "[[ 6  7  8  9 10]\n",
      " [ 1  2  3  4  5]]\n",
      "==========================================\n",
      "[[[30 29]\n",
      "  [28 27]\n",
      "  [26 25]]\n",
      "\n",
      " [[24 23]\n",
      "  [22 21]\n",
      "  [20 19]]\n",
      "\n",
      " [[18 17]\n",
      "  [16 15]\n",
      "  [14 13]]\n",
      "\n",
      " [[12 11]\n",
      "  [10  9]\n",
      "  [ 8  7]]\n",
      "\n",
      " [[ 6  5]\n",
      "  [ 4  3]\n",
      "  [ 2  1]]]\n",
      "==========================================\n",
      "[[[29 30]\n",
      "  [27 28]\n",
      "  [25 26]]\n",
      "\n",
      " [[23 24]\n",
      "  [21 22]\n",
      "  [19 20]]\n",
      "\n",
      " [[17 18]\n",
      "  [15 16]\n",
      "  [13 14]]\n",
      "\n",
      " [[11 12]\n",
      "  [ 9 10]\n",
      "  [ 7  8]]\n",
      "\n",
      " [[ 5  6]\n",
      "  [ 3  4]\n",
      "  [ 1  2]]]\n"
     ]
    }
   ],
   "source": [
    "x = np.arange(-10, 0)\n",
    "x = np.absolute(x)\n",
    "print(x)\n",
    "x = x.reshape(2, 5)\n",
    "print(x)\n",
    "print(np.sort(x))\n",
    "x = np.arange(-30, 0)\n",
    "x = np.absolute(x)\n",
    "x = x.reshape(5, 3, 2)\n",
    "print(\"==========================================\")\n",
    "print(x)\n",
    "print(\"==========================================\")\n",
    "print(np.sort(x))"
   ]
  },
  {
   "cell_type": "code",
   "execution_count": 15,
   "id": "c7a75c6d",
   "metadata": {},
   "outputs": [
    {
     "name": "stdout",
     "output_type": "stream",
     "text": [
      "[ 0  1  2  3  4  5  6  7  8  9 11  3  2  4  1  1  1  1 12 42]\n",
      "(array([ 1, 14, 15, 16, 17]),)\n",
      "(array([ 1, 14, 15, 16, 17]),)\n",
      "[1 1 1 1 1]\n",
      "(array([ 0,  2,  4,  6,  8, 12, 13, 18, 19]),)\n",
      "0\n",
      "2\n",
      "4\n",
      "6\n",
      "8\n",
      "2\n",
      "4\n",
      "12\n",
      "42\n",
      "==========================================\n",
      "[[[ 0  1]\n",
      "  [ 2  3]\n",
      "  [ 4  5]\n",
      "  [ 6  7]\n",
      "  [ 8  9]]\n",
      "\n",
      " [[11  3]\n",
      "  [ 2  4]\n",
      "  [ 1  1]\n",
      "  [ 1  1]\n",
      "  [12 42]]]\n",
      "(array([0, 1, 1, 1, 1]), array([0, 2, 2, 3, 3]), array([1, 0, 1, 0, 1]))\n"
     ]
    }
   ],
   "source": [
    "x = np.arange(10)\n",
    "x = np.append(x, [11, 3, 2, 4, 1, 1, 1, 1, 12, 42])\n",
    "print(x)\n",
    "print(np.where(x == 1))\n",
    "ones = np.where(x == 1)\n",
    "print(ones)\n",
    "print(x[ones])\n",
    "print(np.where(x % 2 == 0))\n",
    "for a in x[np.where(x % 2 == 0)]:\n",
    "    print(a)\n",
    "print(\"==========================================\")\n",
    "x = x.reshape(2, 5, 2)\n",
    "print(x)\n",
    "print(np.where(x == 1))"
   ]
  },
  {
   "cell_type": "code",
   "execution_count": 16,
   "id": "c9552cf4",
   "metadata": {},
   "outputs": [
    {
     "name": "stdout",
     "output_type": "stream",
     "text": [
      "[1 0 2]\n",
      "[2 1 3]\n"
     ]
    }
   ],
   "source": [
    "x = np.array([1, 2, 3, 4])\n",
    "filtery = np.array([True, False, True * 2])\n",
    "print(filtery)\n",
    "print(x[filtery])  # fancy indexing"
   ]
  },
  {
   "cell_type": "code",
   "execution_count": 17,
   "id": "435050ce",
   "metadata": {},
   "outputs": [
    {
     "name": "stdout",
     "output_type": "stream",
     "text": [
      "[1 3 4]\n",
      "[1 3 4]\n"
     ]
    }
   ],
   "source": [
    "# Option 1: List each value explicitly\n",
    "filtery = np.array([True, False, True, True])\n",
    "print(x[filtery])\n",
    "# Option 2: Use concatenation if you need a shorthand\n",
    "filtery = np.array([True, False] + [True] * 2)\n",
    "x = np.array([1, 2, 3, 4])\n",
    "print(x[filtery])"
   ]
  },
  {
   "cell_type": "code",
   "execution_count": 19,
   "id": "5eac0d26",
   "metadata": {},
   "outputs": [
    {
     "name": "stdout",
     "output_type": "stream",
     "text": [
      "[0 2 4 6 8]\n",
      "[6 7 8 9]\n"
     ]
    }
   ],
   "source": [
    "x = np.arange(10)\n",
    "filtered = x % 2 == 0\n",
    "print(x[filtered])\n",
    "filtered = x > 5\n",
    "print(x[filtered])\n"
   ]
  },
  {
   "cell_type": "code",
   "execution_count": null,
   "id": "dfa0dcb5",
   "metadata": {},
   "outputs": [],
   "source": []
  }
 ],
 "metadata": {
  "kernelspec": {
   "display_name": "Python 3",
   "language": "python",
   "name": "python3"
  },
  "language_info": {
   "codemirror_mode": {
    "name": "ipython",
    "version": 3
   },
   "file_extension": ".py",
   "mimetype": "text/x-python",
   "name": "python",
   "nbconvert_exporter": "python",
   "pygments_lexer": "ipython3",
   "version": "3.13.1"
  }
 },
 "nbformat": 4,
 "nbformat_minor": 5
}
