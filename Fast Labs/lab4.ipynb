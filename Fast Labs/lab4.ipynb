{
 "cells": [
  {
   "cell_type": "markdown",
   "metadata": {},
   "source": [
    "### List, Dictionary, Tuple, Set\n"
   ]
  },
  {
   "cell_type": "code",
   "execution_count": 13,
   "metadata": {},
   "outputs": [
    {
     "data": {
      "text/plain": [
       "['apple', 'orange', 'banana', 'kiwi', 'mango']"
      ]
     },
     "execution_count": 13,
     "metadata": {},
     "output_type": "execute_result"
    }
   ],
   "source": [
    "list = [\"apple\", \"cherry\", \"orange\", \"kiwi\", \"melon\", \"mango\"] \n",
    "\n",
    "# remove cherry and lemon and add banana to second last index\n",
    "\n",
    "del list[1]\n",
    "# del list[3]\n",
    "list.remove(list[3])\n",
    "list\n",
    "\n",
    "list.insert(len(list)-2, 'banana')\n",
    "\n",
    "list\n"
   ]
  },
  {
   "cell_type": "code",
   "execution_count": 15,
   "metadata": {},
   "outputs": [
    {
     "data": {
      "text/plain": [
       "[]"
      ]
     },
     "execution_count": 15,
     "metadata": {},
     "output_type": "execute_result"
    }
   ],
   "source": [
    "# empty the list using pop\n",
    "\n",
    "from ast import Not\n",
    "\n",
    "\n",
    "list = [ 1, 4, 56, 2, 4 , 12, 6, 89 ,11, 0]\n",
    "\n",
    "while list:\n",
    "    list.pop()\n",
    "\n",
    "list\n"
   ]
  },
  {
   "cell_type": "code",
   "execution_count": 22,
   "metadata": {},
   "outputs": [
    {
     "name": "stdout",
     "output_type": "stream",
     "text": [
      "[4, 77, 66, 71, 65, 97, 46, 76, 50, 40]\n",
      "4 97\n"
     ]
    }
   ],
   "source": [
    "# random values in list\n",
    "\n",
    "size = int(input(\"enter the size of the list\"))\n",
    "\n",
    "import random as rd\n",
    "\n",
    "list = [rd.randint(1,100) for x in range(size)]\n",
    "\n",
    "list\n",
    "\n",
    "mini = list[0]\n",
    "maxi = list[0]\n",
    "\n",
    "for x in list:\n",
    "    if x < mini:\n",
    "        mini = x\n",
    "    if x > maxi:\n",
    "        maxi = x\n",
    "\n",
    "print(list)\n",
    "\n",
    "print(mini, maxi)\n"
   ]
  },
  {
   "cell_type": "code",
   "execution_count": 23,
   "metadata": {},
   "outputs": [
    {
     "name": "stdout",
     "output_type": "stream",
     "text": [
      "Updated Tuple: ('john', 'mark', 12, '14', 'orange', 4.5, 6.5)\n",
      "Counts: {'Integers': 1, 'Strings': 4, 'Floats': 2}\n"
     ]
    }
   ],
   "source": [
    "# Step a: Create the tuple\n",
    "my_tuple = (\"john\", \"mark\", 12, \"14\", \"orange\", 4.5)\n",
    "\n",
    "# Step b: Update the tuple by adding a new value (tuples are immutable, so we create a new tuple)\n",
    "updated_tuple = my_tuple + (6.5,)\n",
    "\n",
    "# Step c: Function to count integers, strings, and floats\n",
    "def count_data_types(tup):\n",
    "    int_count = sum(1 for item in tup if isinstance(item, int))\n",
    "    str_count = sum(1 for item in tup if isinstance(item, str))\n",
    "    float_count = sum(1 for item in tup if isinstance(item, float))\n",
    "    \n",
    "    return {\"Integers\": int_count, \"Strings\": str_count, \"Floats\": float_count}\n",
    "\n",
    "# Call the function and print the counts\n",
    "counts = count_data_types(updated_tuple)\n",
    "print(\"Updated Tuple:\", updated_tuple)\n",
    "print(\"Counts:\", counts)\n"
   ]
  },
  {
   "cell_type": "code",
   "execution_count": 24,
   "metadata": {},
   "outputs": [
    {
     "name": "stdout",
     "output_type": "stream",
     "text": [
      "Updated Dictionary: {'brand': 'Samsung', 'OS type': 'Oreo', 'color': 'black', 'camera': '42 megapixels', 'year': 2012, 'sizes': [90, 59, 31, 9, 80]}\n"
     ]
    }
   ],
   "source": [
    "import random\n",
    "\n",
    "# Step a: Create the dictionary\n",
    "my_dict = {\n",
    "    \"brand\": \"Samsung\",\n",
    "    \"OS type\": \"Oreo\",\n",
    "    \"color\": \"black\",\n",
    "    \"camera\": \"42 megapixels\",\n",
    "    \"year\": 2012\n",
    "}\n",
    "\n",
    "# Step b: Add a list of random numbers with key \"sizes\"\n",
    "my_dict[\"sizes\"] = [random.randint(1, 100) for _ in range(5)]\n",
    "\n",
    "# Print the updated dictionary\n",
    "print(\"Updated Dictionary:\", my_dict)\n"
   ]
  },
  {
   "cell_type": "code",
   "execution_count": 25,
   "metadata": {},
   "outputs": [
    {
     "name": "stdout",
     "output_type": "stream",
     "text": [
      "Dictionary in specific order:\n",
      "Brand: Samsung\n",
      "Color: black\n",
      "Camera: 42 megapixels\n",
      "Os type: Oreo\n",
      "Sizes: [30, 99, 48, 61, 11]\n"
     ]
    }
   ],
   "source": [
    "import random\n",
    "\n",
    "# Step a: Create the dictionary\n",
    "my_dict = {\n",
    "    \"brand\": \"Samsung\",\n",
    "    \"OS type\": \"Oreo\",\n",
    "    \"color\": \"black\",\n",
    "    \"camera\": \"42 megapixels\",\n",
    "    \"year\": 2012\n",
    "}\n",
    "\n",
    "# Step b: Add a list of random numbers with key \"sizes\"\n",
    "my_dict[\"sizes\"] = [random.randint(1, 100) for _ in range(5)]\n",
    "\n",
    "# Step c: Delete the 'year' key\n",
    "del my_dict[\"year\"]\n",
    "\n",
    "# Step d: Print dictionary in specific order using a loop\n",
    "display_order = [\"brand\", \"color\", \"camera\", \"OS type\", \"sizes\"]\n",
    "\n",
    "print(\"Dictionary in specific order:\")\n",
    "for key in display_order:\n",
    "    print(f\"{key.capitalize()}: {my_dict[key]}\")\n"
   ]
  },
  {
   "cell_type": "code",
   "execution_count": 26,
   "metadata": {},
   "outputs": [
    {
     "name": "stdout",
     "output_type": "stream",
     "text": [
      "Summed List: [14, 26, 38, 76, 42, 87, 133, 129, 120, 319, 5]\n"
     ]
    }
   ],
   "source": [
    "def sum_lists(list1, list2):\n",
    "    list3 = [x + y for x, y in zip(list1, list2)]\n",
    "    return list3\n",
    "\n",
    "# Given lists\n",
    "list1 = [11, 22, 33, 44, 21, 54, 67, 54, 33, 222, 4]\n",
    "list2 = [3, 4, 5, 32, 21, 33, 66, 75, 87, 97, 1]\n",
    "\n",
    "# Call the function and print the result\n",
    "list3 = sum_lists(list1, list2)\n",
    "print(\"Summed List:\", list3)\n"
   ]
  },
  {
   "cell_type": "code",
   "execution_count": 27,
   "metadata": {},
   "outputs": [
    {
     "name": "stdout",
     "output_type": "stream",
     "text": [
      "Sorted in descending order: [34, 23, 12, 12, 7, 6, 5, 5, 4, 3, 3]\n"
     ]
    }
   ],
   "source": [
    "def dsort(lst):\n",
    "    return sorted(lst, reverse=True)\n",
    "\n",
    "# Given list\n",
    "numbers = [5, 6, 7, 23, 12, 3, 3, 4, 5, 12, 34]\n",
    "\n",
    "# Call the function and print the sorted list\n",
    "sorted_list = dsort(numbers)\n",
    "print(\"Sorted in descending order:\", sorted_list)\n"
   ]
  },
  {
   "cell_type": "code",
   "execution_count": null,
   "metadata": {},
   "outputs": [],
   "source": []
  }
 ],
 "metadata": {
  "kernelspec": {
   "display_name": "Python 3",
   "language": "python",
   "name": "python3"
  },
  "language_info": {
   "codemirror_mode": {
    "name": "ipython",
    "version": 3
   },
   "file_extension": ".py",
   "mimetype": "text/x-python",
   "name": "python",
   "nbconvert_exporter": "python",
   "pygments_lexer": "ipython3",
   "version": "3.12.4"
  }
 },
 "nbformat": 4,
 "nbformat_minor": 2
}
