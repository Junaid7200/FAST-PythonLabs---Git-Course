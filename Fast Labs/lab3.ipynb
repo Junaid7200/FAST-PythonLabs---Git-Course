{
 "cells": [
  {
   "cell_type": "markdown",
   "metadata": {},
   "source": [
    "### Strings, Functions"
   ]
  },
  {
   "cell_type": "code",
   "execution_count": 2,
   "metadata": {},
   "outputs": [
    {
     "name": "stdout",
     "output_type": "stream",
     "text": [
      "current number: 1; previous number 0; sum: 1\n",
      "current number: 2; previous number 1; sum: 3\n",
      "current number: 3; previous number 2; sum: 5\n",
      "current number: 4; previous number 3; sum: 7\n",
      "current number: 5; previous number 4; sum: 9\n",
      "current number: 6; previous number 5; sum: 11\n",
      "current number: 7; previous number 6; sum: 13\n",
      "current number: 8; previous number 7; sum: 15\n",
      "current number: 9; previous number 8; sum: 17\n",
      "current number: 10; previous number 9; sum: 19\n"
     ]
    }
   ],
   "source": [
    "# in range of first 10 numbers, print the current and previous number and its sum\n",
    "\n",
    "numbers = [x for x in range(0, 11)]\n",
    "\n",
    "for x in range(1, len(numbers)):\n",
    "    print(f\"current number: {numbers[x]}; previous number {numbers[x-1]}; sum: {numbers[x] + numbers[(x-1)]}\")"
   ]
  },
  {
   "cell_type": "code",
   "execution_count": 5,
   "metadata": {},
   "outputs": [
    {
     "name": "stdout",
     "output_type": "stream",
     "text": [
      "p\n",
      "n\n",
      "t\n",
      "v\n"
     ]
    }
   ],
   "source": [
    "# print the char at even indexes\n",
    "\n",
    "stringyy = \"pynative\"\n",
    "\n",
    "for x in range(0, len(stringyy)):\n",
    "    if x % 2 == 0:\n",
    "        print(stringyy[x])"
   ]
  },
  {
   "cell_type": "code",
   "execution_count": 14,
   "metadata": {},
   "outputs": [
    {
     "data": {
      "text/plain": [
       "'native'"
      ]
     },
     "execution_count": 14,
     "metadata": {},
     "output_type": "execute_result"
    }
   ],
   "source": [
    "# remove chars from a string up to n\n",
    "\n",
    "n = 2\n",
    "stringyy = \"pynative\"\n",
    "\n",
    "new = stringyy[n:]\n",
    "\n",
    "new"
   ]
  },
  {
   "cell_type": "code",
   "execution_count": 21,
   "metadata": {},
   "outputs": [
    {
     "data": {
      "text/plain": [
       "True"
      ]
     },
     "execution_count": 21,
     "metadata": {},
     "output_type": "execute_result"
    }
   ],
   "source": [
    "# function that returns true if first and last number in a list are the same\n",
    "\n",
    "def checker(listy):\n",
    "    if listy[0] == listy[len(listy)-1]:\n",
    "        return True\n",
    "    else:\n",
    "        return False\n",
    "\n",
    "\n",
    "numbers = [x for x in range(1, 20)]\n",
    "numbers_2 = [1, 2, 3, 4, 5, 1]\n",
    "\n",
    "\n",
    "two = checker(numbers_2)\n",
    "\n",
    "two"
   ]
  },
  {
   "cell_type": "code",
   "execution_count": 23,
   "metadata": {},
   "outputs": [
    {
     "data": {
      "text/plain": [
       "[25, 35, 40, 60, 90]"
      ]
     },
     "execution_count": 23,
     "metadata": {},
     "output_type": "execute_result"
    }
   ],
   "source": [
    "# get the odd numbers from the first list and the even numbers from the second list\n",
    "\n",
    "list1 = [10, 20, 25, 30, 35]\n",
    "list2 = [40, 45, 60, 75, 90]\n",
    "\n",
    "list3 = [x for x in list1 if x % 2 != 0] + [x for x in list2 if x % 2 == 0]\n",
    "\n",
    "list3"
   ]
  },
  {
   "cell_type": "code",
   "execution_count": 24,
   "metadata": {},
   "outputs": [
    {
     "data": {
      "text/plain": [
       "100"
      ]
     },
     "execution_count": 24,
     "metadata": {},
     "output_type": "execute_result"
    }
   ],
   "source": [
    "# function called exponent\n",
    "\n",
    "def exponent(base, power):\n",
    "    return base ** power\n",
    "\n",
    "exponent(10, 2)"
   ]
  },
  {
   "cell_type": "code",
   "execution_count": 25,
   "metadata": {},
   "outputs": [
    {
     "data": {
      "text/plain": [
       "(15, 5)"
      ]
     },
     "execution_count": 25,
     "metadata": {},
     "output_type": "execute_result"
    }
   ],
   "source": [
    "# add and sub and return both\n",
    "\n",
    "def add_sub(x, y):\n",
    "    return x+y,x-y\n",
    "\n",
    "add_sub(10, 5)"
   ]
  },
  {
   "cell_type": "code",
   "execution_count": 27,
   "metadata": {},
   "outputs": [
    {
     "data": {
      "text/plain": [
       "'AuKellylt'"
      ]
     },
     "execution_count": 27,
     "metadata": {},
     "output_type": "execute_result"
    }
   ],
   "source": [
    "# append s2 in the mid of s1\n",
    "\n",
    "s1 = \"Ault\"\n",
    "s2 = \"Kelly\"\n",
    "\n",
    "mid = len(s1) // 2\n",
    "\n",
    "\n",
    "s3 = s1[:mid] + s2 + s1[mid:]\n",
    "s3"
   ]
  },
  {
   "cell_type": "code",
   "execution_count": 30,
   "metadata": {},
   "outputs": [
    {
     "data": {
      "text/plain": [
       "20"
      ]
     },
     "execution_count": 30,
     "metadata": {},
     "output_type": "execute_result"
    }
   ],
   "source": [
    "# outer function accepts a and b, inner functions adds them, outer function adds 5 to that and returns it\n",
    "\n",
    "def outer(a, b):\n",
    "    def inner():\n",
    "        return a + b\n",
    "    return inner() + 5\n",
    "\n",
    "outer(5, 10)"
   ]
  },
  {
   "cell_type": "code",
   "execution_count": 33,
   "metadata": {},
   "outputs": [
    {
     "data": {
      "text/plain": [
       "'name of the employee is james and his salary is: 9000'"
      ]
     },
     "execution_count": 33,
     "metadata": {},
     "output_type": "execute_result"
    }
   ],
   "source": [
    "# display the employee\n",
    "\n",
    "def display_emp(name, salary = 9000):\n",
    "    return f\"name of the employee is {name} and his salary is: {salary}\"\n",
    "\n",
    "display_emp('james')"
   ]
  }
 ],
 "metadata": {
  "kernelspec": {
   "display_name": "Python 3",
   "language": "python",
   "name": "python3"
  },
  "language_info": {
   "codemirror_mode": {
    "name": "ipython",
    "version": 3
   },
   "file_extension": ".py",
   "mimetype": "text/x-python",
   "name": "python",
   "nbconvert_exporter": "python",
   "pygments_lexer": "ipython3",
   "version": "3.12.4"
  }
 },
 "nbformat": 4,
 "nbformat_minor": 2
}
