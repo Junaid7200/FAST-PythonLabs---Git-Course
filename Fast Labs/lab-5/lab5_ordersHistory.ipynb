{
 "cells": [
  {
   "cell_type": "markdown",
   "metadata": {},
   "source": [
    "### $$Customer Management System$$"
   ]
  },
  {
   "cell_type": "code",
   "execution_count": 103,
   "metadata": {},
   "outputs": [],
   "source": [
    "def load_orders(filepath, orders: list[tuple]):\n",
    "    with open(filepath, 'r') as f:\n",
    "        for line in f:\n",
    "            order_id = int(line.split(',')[0])\n",
    "            customer_name = line.split(',')[1]\n",
    "            product = line.split(',')[2]\n",
    "            quantity = int(line.split(',')[3].strip())\n",
    "            order: tuple = (order_id, customer_name, product, quantity)\n",
    "            orders.append(order)\n",
    "            print(f\"({order_id}, {customer_name}, {product}, {quantity}) added\")\n",
    "\n",
    "\n",
    "\n",
    "# testing\n",
    "# orders = []\n",
    "# load_orders('orders.txt', orders)\n",
    "# print(orders)"
   ]
  },
  {
   "cell_type": "code",
   "execution_count": 104,
   "metadata": {},
   "outputs": [],
   "source": [
    "def create_order(order_id: int, customer_name: str, product: str, quantity: int, orders: list[tuple]):\n",
    "    tuple = (order_id, customer_name, product, quantity)\n",
    "    orders.append(tuple)\n",
    "    return f\"Order with id: {order_id} has been added to the list of orders\""
   ]
  },
  {
   "cell_type": "code",
   "execution_count": 105,
   "metadata": {},
   "outputs": [],
   "source": [
    "def validate_inputs(order_id: int, customer_name: str, product: str, quantity: int, orders: list[tuple]):\n",
    "    if type(order_id) != int:\n",
    "        raise ValueError(\"Quantity must be an integer\")\n",
    "    if type(customer_name) != str:\n",
    "        raise ValueError(\"customer name must be a string\")\n",
    "    if type(product) != str:\n",
    "        raise ValueError(\"product name must be a string\")\n",
    "    if type(quantity) != int:\n",
    "        raise ValueError(\"Quantity must be an integer\")\n",
    "    if order_id in [order[0] for order in orders]:\n",
    "        raise ValueError(f\"Order with id: {order_id} already exists\")\n",
    "    return True"
   ]
  },
  {
   "cell_type": "code",
   "execution_count": 106,
   "metadata": {},
   "outputs": [],
   "source": [
    "# write orders to orders.txt:\n",
    "def write_orders(orders: list[tuple]):\n",
    "    with open(\"orders.txt\", 'w') as f:\n",
    "        for order in orders:\n",
    "            f.write(f\"{order[0]},{order[1]},{order[2]},{order[3]}\\n\")\n",
    "    return f\"The orders with the following order ids have been written to orders.txt: {[order[0] for order in orders]}\"\n",
    "\n",
    "\n",
    "# testing\n",
    "# write_orders(orders)\n"
   ]
  },
  {
   "cell_type": "code",
   "execution_count": null,
   "metadata": {},
   "outputs": [],
   "source": [
    "def update_orders(orders: list[tuple], order_id: int, customer_name: str = None, product: str = None, quantity: int = None):\n",
    "    print(\"Entered the update function\")\n",
    "    for i, order in enumerate(orders):\n",
    "        if order[0] == order_id:\n",
    "            # Convert the tuple to a list so you can update it\n",
    "            order_list = list(order)\n",
    "            if customer_name is not None:\n",
    "                order_list[1] = customer_name\n",
    "            if product is not None:\n",
    "                order_list[2] = product\n",
    "            if quantity is not None:\n",
    "                order_list[3] = quantity\n",
    "            # Replace the old tuple with the updated one\n",
    "            orders[i] = tuple(order_list)\n",
    "            print(\"=======================\")\n",
    "            print(tuple(order_list))\n",
    "            print(\"=======================\")\n",
    "        else:\n",
    "            print(\"Order not found\")\n",
    "        write_orders(orders)  # Write after updating\n",
    "        return f\"Order with id: {order_id} has been updated\"\n",
    "    return f\"Order with id: {order_id} does not exist\"\n"
   ]
  },
  {
   "cell_type": "code",
   "execution_count": 108,
   "metadata": {},
   "outputs": [
    {
     "name": "stdout",
     "output_type": "stream",
     "text": [
      "(1, Junaid, ice cream, 5) added\n",
      "(2, hadeed, candy, 20) added\n",
      "(3, fahad, burger, 2) added\n",
      "(4, jimbo, apples, 9) added\n",
      "(5, ronald, pizza, 2) added\n",
      "(6, donald, chips, 15) added\n",
      "(7, jackson, oranges, 6) added\n",
      "Entered the update function\n",
      "(1, 'Junaid', 'ice cream', 5)\n",
      "entered for loop\n",
      "<class 'int'>\n",
      "<class 'int'>\n",
      "Order found\n",
      "Customer name is not none\n",
      "=======================\n",
      "(1, 'jonathan', 'ice cream', 5)\n",
      "=======================\n",
      "(1, jonathan, ice cream, 5) added\n",
      "(2, hadeed, candy, 20) added\n",
      "(3, fahad, burger, 2) added\n",
      "(4, jimbo, apples, 9) added\n",
      "(5, ronald, pizza, 2) added\n",
      "(6, donald, chips, 15) added\n",
      "(7, jackson, oranges, 6) added\n"
     ]
    }
   ],
   "source": [
    "Orders = []\n",
    "while True:\n",
    "    load_orders('orders.txt', Orders)\n",
    "    choice = input(\"Enter 1 to add an order or 2 to view order history or 3 to exit or 4 to update an order: \")\n",
    "    if choice == '1':\n",
    "        order_id = int(input(\"Enter the order id: \"))\n",
    "        customer_name = input(\"Enter the customer name: \")\n",
    "        product = input(\"Enter the product: \")\n",
    "        quantity = int(input(\"Enter the quantity: \"))\n",
    "        validate_inputs(order_id, customer_name, product, quantity, Orders)\n",
    "        create_order(order_id, customer_name, product, quantity, Orders)\n",
    "        print(write_orders(Orders))\n",
    "    elif choice == '2':\n",
    "        load_orders('orders.txt', Orders)\n",
    "        print(Orders)\n",
    "    elif choice == '3':\n",
    "        break\n",
    "    elif choice == '4':\n",
    "        id = int(input(\"Enter the order id: \"))\n",
    "        if id not in [int(order[0]) for order in Orders]:\n",
    "            print(f\"Order with id: {id} does not exist\")\n",
    "            continue\n",
    "        else:\n",
    "            new_customer_name = input(\"Enter new customer name (press Enter to skip): \")\n",
    "            new_customer_name = new_customer_name if new_customer_name.strip() else None\n",
    "            new_product = input(\"Enter new product (press Enter to skip): \")\n",
    "            new_product = new_product if new_product.strip() else None\n",
    "            new_quantity_str = input(\"Enter new quantity (press Enter to skip): \")\n",
    "            new_quantity = int(new_quantity_str) if new_quantity_str.strip() else None\n",
    "            update_orders(Orders, id, new_customer_name, new_product, new_quantity)"
   ]
  },
  {
   "cell_type": "code",
   "execution_count": null,
   "metadata": {},
   "outputs": [],
   "source": []
  }
 ],
 "metadata": {
  "kernelspec": {
   "display_name": "Python 3",
   "language": "python",
   "name": "python3"
  },
  "language_info": {
   "codemirror_mode": {
    "name": "ipython",
    "version": 3
   },
   "file_extension": ".py",
   "mimetype": "text/x-python",
   "name": "python",
   "nbconvert_exporter": "python",
   "pygments_lexer": "ipython3",
   "version": "3.13.1"
  }
 },
 "nbformat": 4,
 "nbformat_minor": 2
}
