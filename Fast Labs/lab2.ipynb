{
 "cells": [
  {
   "cell_type": "markdown",
   "metadata": {},
   "source": [
    "### Practice on Python Basics, Variables, Conditional Structure, Iterative Structure\n"
   ]
  },
  {
   "cell_type": "code",
   "execution_count": 1,
   "metadata": {},
   "outputs": [
    {
     "data": {
      "text/plain": [
       "200"
      ]
     },
     "execution_count": 1,
     "metadata": {},
     "output_type": "execute_result"
    }
   ],
   "source": [
    "# Find the area of rectangle\n",
    "length = 20\n",
    "width = 10\n",
    "area = length * width\n",
    "area"
   ]
  },
  {
   "cell_type": "code",
   "execution_count": 7,
   "metadata": {},
   "outputs": [
    {
     "data": {
      "text/plain": [
       "80.0"
      ]
     },
     "execution_count": 7,
     "metadata": {},
     "output_type": "execute_result"
    }
   ],
   "source": [
    "# Find percentage of a student's marks\n",
    "\n",
    "subjects = {'english': 80, 'maths': 80, 'urdu': 80, 'science': 80}\n",
    "\n",
    "\n",
    "obtained = 0\n",
    "for sub, marks in subjects.items():\n",
    "    obtained += marks\n",
    "percentage = obtained/400 * 100\n",
    "\n",
    "percentage"
   ]
  },
  {
   "cell_type": "code",
   "execution_count": 9,
   "metadata": {},
   "outputs": [
    {
     "data": {
      "text/plain": [
       "4875.0"
      ]
     },
     "execution_count": 9,
     "metadata": {},
     "output_type": "execute_result"
    }
   ],
   "source": [
    "# interest rate calculation\n",
    "\n",
    "amount = 65000\n",
    "years = 5\n",
    "rate = 1.5\n",
    "\n",
    "interest = amount * years * (rate/100)\n",
    "\n",
    "interest"
   ]
  },
  {
   "cell_type": "code",
   "execution_count": 12,
   "metadata": {},
   "outputs": [
    {
     "data": {
      "text/plain": [
       "40.0"
      ]
     },
     "execution_count": 12,
     "metadata": {},
     "output_type": "execute_result"
    }
   ],
   "source": [
    "# fahrenheit to celsius\n",
    "\n",
    "far = 104\n",
    "cel = 5/9 * (far - 32)\n",
    "\n",
    "cel"
   ]
  },
  {
   "cell_type": "code",
   "execution_count": 13,
   "metadata": {},
   "outputs": [
    {
     "data": {
      "text/plain": [
       "400"
      ]
     },
     "execution_count": 13,
     "metadata": {},
     "output_type": "execute_result"
    }
   ],
   "source": [
    "# perimeter of rectangle\n",
    "\n",
    "len = 20\n",
    "width = 10\n",
    "\n",
    "perimeter = 2 * (len * width)\n",
    "\n",
    "perimeter"
   ]
  },
  {
   "cell_type": "code",
   "execution_count": 17,
   "metadata": {},
   "outputs": [
    {
     "data": {
      "text/plain": [
       "495.0"
      ]
     },
     "execution_count": 17,
     "metadata": {},
     "output_type": "execute_result"
    }
   ],
   "source": [
    "# 10% discount on 550Rs shirt\n",
    "\n",
    "price = 550\n",
    "discount =  price * 10/100\n",
    "\n",
    "discounted_price = price - discount\n",
    "\n",
    "discounted_price"
   ]
  },
  {
   "cell_type": "code",
   "execution_count": 19,
   "metadata": {},
   "outputs": [
    {
     "data": {
      "text/plain": [
       "450.0"
      ]
     },
     "execution_count": 19,
     "metadata": {},
     "output_type": "execute_result"
    }
   ],
   "source": [
    "# ask for retail price and sales tax and and find the total of the retail sale\n",
    "\n",
    "retail_price = float(input(\"Enter the retail price\"))\n",
    "sales_tax = input(\"Enter the sales tax (percentage)\").replace('%', '')\n",
    "\n",
    "retail_sale = retail_price - (retail_price * (int(sales_tax)/100))\n",
    "\n",
    "retail_sale"
   ]
  },
  {
   "cell_type": "code",
   "execution_count": 24,
   "metadata": {},
   "outputs": [
    {
     "name": "stdout",
     "output_type": "stream",
     "text": [
      "350\n",
      "total in pkr: 106050\n"
     ]
    }
   ],
   "source": [
    "# 2 keyboards for 100 each, 3 mouses for 50 each, tell total\n",
    "\n",
    "cart = {'keyboards': (2, 100), 'mouses': (3, 50)}\n",
    "\n",
    "total = 0\n",
    "for key, item in cart.items():\n",
    "    total += (item[0] * item[1])\n",
    "print(total)\n",
    "\n",
    "print(f\"total in pkr: {total * 303}\")"
   ]
  },
  {
   "cell_type": "code",
   "execution_count": 31,
   "metadata": {},
   "outputs": [
    {
     "data": {
      "text/plain": [
       "31600"
      ]
     },
     "execution_count": 31,
     "metadata": {},
     "output_type": "execute_result"
    }
   ],
   "source": [
    "# calculate current balance using starting balance, deposits, withdrawals\n",
    "\n",
    "starting = 45000\n",
    "deposits = [100, 500, 3000, 2000]\n",
    "withdrawals = [10000, 5000, 4000]\n",
    "\n",
    "starting += sum(deposits)\n",
    "\n",
    "starting -= sum(withdrawals)\n",
    "\n",
    "starting"
   ]
  },
  {
   "cell_type": "code",
   "execution_count": 33,
   "metadata": {},
   "outputs": [
    {
     "name": "stdout",
     "output_type": "stream",
     "text": [
      "get outta here you underaged dummy\n"
     ]
    }
   ],
   "source": [
    "# eligibility for casting vote\n",
    "\n",
    "age = int(input(\"enter your age mate\"))\n",
    "\n",
    "\n",
    "if age >= 18:\n",
    "    print(\"You can cast vote\")\n",
    "else:\n",
    "    print(\"get outta here you underaged dummy\")"
   ]
  },
  {
   "cell_type": "code",
   "execution_count": 42,
   "metadata": {},
   "outputs": [
    {
     "name": "stdout",
     "output_type": "stream",
     "text": [
      "[1, 2, 4, 7, 8, 14, 28]\n",
      "Not Perfect\n"
     ]
    }
   ],
   "source": [
    "# determine if its a perfect number\n",
    "\n",
    "number = 56\n",
    "\n",
    "positive_divisors = []\n",
    "\n",
    "for x in range(1, number):\n",
    "    if number % x == 0:\n",
    "        positive_divisors.append(x)\n",
    "print(positive_divisors)\n",
    "\n",
    "\n",
    "if sum(positive_divisors) == number:\n",
    "    print(\"perfect\")\n",
    "else:\n",
    "    print(\"Not Perfect\")"
   ]
  },
  {
   "cell_type": "code",
   "execution_count": 47,
   "metadata": {},
   "outputs": [
    {
     "name": "stdout",
     "output_type": "stream",
     "text": [
      "6 is perfect with the positive divisors: [1, 2, 3]\n",
      "28 is perfect with the positive divisors: [1, 2, 4, 7, 14]\n"
     ]
    }
   ],
   "source": [
    "# perfect numbers in a range\n",
    "\n",
    "numbers = [x for x in range(1, 51)]\n",
    "\n",
    "\n",
    "\n",
    "for number in numbers:\n",
    "    positive_divisors = []\n",
    "    for x in range(1, number):\n",
    "        if number % x == 0:\n",
    "            positive_divisors.append(x)\n",
    "    if sum(positive_divisors) == number:\n",
    "        print(f\"{number} is perfect with the positive divisors: {positive_divisors}\")"
   ]
  },
  {
   "cell_type": "code",
   "execution_count": 50,
   "metadata": {},
   "outputs": [
    {
     "name": "stdout",
     "output_type": "stream",
     "text": [
      "[1, 4, 9, 16, 25]\n",
      "55\n"
     ]
    }
   ],
   "source": [
    "# square of that many natural numbers and their sums\n",
    "\n",
    "amount = int(input(\"enter the amount of natural numbers\"))\n",
    "\n",
    "squares = [x**2 for x in range(1,amount+1)]\n",
    "\n",
    "print(squares)\n",
    "print(sum(squares))"
   ]
  }
 ],
 "metadata": {
  "kernelspec": {
   "display_name": "Python 3",
   "language": "python",
   "name": "python3"
  },
  "language_info": {
   "codemirror_mode": {
    "name": "ipython",
    "version": 3
   },
   "file_extension": ".py",
   "mimetype": "text/x-python",
   "name": "python",
   "nbconvert_exporter": "python",
   "pygments_lexer": "ipython3",
   "version": "3.13.1"
  }
 },
 "nbformat": 4,
 "nbformat_minor": 2
}
